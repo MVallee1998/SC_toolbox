{
 "cells": [
  {
   "cell_type": "markdown",
   "metadata": {},
   "source": [
    "# Code for CLa&ssification of toric colorable seeds of Picard number $4$\n",
    "In terms of:\n",
    "    - Positivity\n",
    "    - Fan-givingness\n",
    "    - Projectivity"
   ]
  },
  {
   "cell_type": "code",
   "execution_count": 1,
   "metadata": {},
   "outputs": [],
   "source": [
    "import SimplicialComplex as sc\n",
    "import json\n",
    "import sympy as sp\n",
    "import numpy as np\n",
    "\n",
    "def read_file(filename):\n",
    "    with open(filename, 'rb') as f:\n",
    "        data = f.readlines()\n",
    "        data = [x.strip() for x in data]\n",
    "    return data"
   ]
  },
  {
   "cell_type": "markdown",
   "metadata": {},
   "source": [
    "### Function for loading all the seeds of a given pair $(m,n)$"
   ]
  },
  {
   "cell_type": "code",
   "execution_count": 2,
   "metadata": {},
   "outputs": [],
   "source": [
    "def load_seeds(n,m):\n",
    "    db_path = 'final_results/CSPLS_%d_%d' % (n, m)\n",
    "    list_facets = [json.loads(facets_bytes) for facets_bytes in read_file(db_path)]\n",
    "    return [sc.PureSimplicialComplex(facets_set) for facets_set in list_facets]\n",
    "\n",
    "    \n",
    "    "
   ]
  },
  {
   "cell_type": "markdown",
   "metadata": {},
   "source": [
    "### Function for testing positivity of a pair $(K,\\lambda^{\\mathbb{R}})$"
   ]
  },
  {
   "cell_type": "code",
   "execution_count": 100,
   "metadata": {},
   "outputs": [],
   "source": [
    "def is_positive(K:sc.PureSimplicialComplex,mod_2_IDCM):\n",
    "    (m,n) = (K.m,K.n)\n",
    "    \n",
    "    x_vars = sp.symarray('x',(m-n,n))\n",
    "    R = sp.ZZ.old_poly_ring(x_vars)\n",
    "    poly_char_map = sp.Matrix(mod_2_IDCM)\n",
    "    for i in range(m-n):\n",
    "        for j in range(m):\n",
    "            if mod_2_IDCM[i,j]==1:\n",
    "                poly_char_map[i,j] = sp.Integer(1)\n",
    "            else:\n",
    "                poly_char_map[i,j] = sp.Integer(0)\n",
    "    poly_char_map[:,m-n:] += sp.Integer(2)*x_vars\n",
    "    list_cofacets = []\n",
    "    for facet_bin in K.facets_bin:\n",
    "        cofacet_bin = facet_bin ^ (sc.list_2_pow[m]-1)\n",
    "        list_cofacets.append(cofacet_bin)\n",
    "    N = len(list_cofacets)\n",
    "\n",
    "    system = []\n",
    "    for i in range(N):\n",
    "        for j in range(i+1,N):\n",
    "            intersection = sc.binary_to_face_0(list_cofacets[i]&list_cofacets[j],m)\n",
    "            if len(intersection)==m-n-1:\n",
    "                vertices = sc.binary_to_face_0(list_cofacets[i]^list_cofacets[j],m)\n",
    "                intersection1 = intersection.copy()\n",
    "                intersection1.append(vertices[0])\n",
    "                intersection2 = intersection.copy()\n",
    "                intersection2.append(vertices[1])\n",
    "                system.append((poly_char_map[:,intersection1].det()*poly_char_map[:,intersection2].det()).expand()+1)\n",
    "    print(system)\n",
    "    print(sp.solve(system))\n"
   ]
  },
  {
   "cell_type": "code",
   "execution_count": 101,
   "metadata": {},
   "outputs": [
    {
     "name": "stdout",
     "output_type": "stream",
     "text": [
      "[16*x_2_0**2*x_3_1**2 + 16*x_2_0**2*x_3_1 + 4*x_2_0**2 - 32*x_2_0*x_2_1*x_3_0*x_3_1 - 16*x_2_0*x_2_1*x_3_0 + 16*x_2_0*x_3_1**2 + 16*x_2_0*x_3_1 + 4*x_2_0 + 16*x_2_1**2*x_3_0**2 - 16*x_2_1*x_3_0*x_3_1 - 8*x_2_1*x_3_0 + 4*x_3_1**2 + 4*x_3_1 + 2, 8*x_2_0**2*x_3_1 + 4*x_2_0**2 - 8*x_2_0*x_2_1*x_3_0 - 8*x_2_0*x_3_0*x_3_1 - 4*x_2_0*x_3_0 + 8*x_2_0*x_3_1 + 4*x_2_0 + 8*x_2_1*x_3_0**2 - 4*x_2_1*x_3_0 - 4*x_3_0*x_3_1 - 2*x_3_0 + 2*x_3_1 + 2, -8*x_2_0*x_2_1*x_3_1 - 4*x_2_0*x_2_1 + 8*x_2_0*x_3_1**2 + 8*x_2_0*x_3_1 + 2*x_2_0 + 8*x_2_1**2*x_3_0 - 8*x_2_1*x_3_0*x_3_1 - 4*x_2_1*x_3_0 - 4*x_2_1*x_3_1 - 2*x_2_1 + 4*x_3_1**2 + 4*x_3_1 + 2, -4*x_2_1**2 + 8*x_2_1*x_3_1 + 4*x_2_1 - 4*x_3_1**2 - 4*x_3_1, 4*x_2_0*x_2_1 - 4*x_2_0*x_3_1 - 2*x_2_0 - 4*x_2_1*x_3_0 + 2*x_2_1 + 4*x_3_0*x_3_1 + 2*x_3_0 - 2*x_3_1, 4*x_2_0**2 - 8*x_2_0*x_3_0 + 4*x_2_0 + 4*x_3_0**2 - 4*x_3_0 + 2]\n",
      "[]\n",
      "[16*x_1_0*x_2_0*x_2_1*x_3_1 + 8*x_1_0*x_2_0*x_2_1 - 16*x_1_0*x_2_1**2*x_3_0 + 8*x_1_0*x_2_1*x_3_1 + 4*x_1_0*x_2_1 - 16*x_1_1*x_2_0**2*x_3_1 - 8*x_1_1*x_2_0**2 + 16*x_1_1*x_2_0*x_2_1*x_3_0 - 16*x_1_1*x_2_0*x_3_1 - 8*x_1_1*x_2_0 + 8*x_1_1*x_2_1*x_3_0 - 4*x_1_1*x_3_1 - 2*x_1_1 + 16*x_2_0**2*x_3_1**2 + 16*x_2_0**2*x_3_1 + 4*x_2_0**2 - 32*x_2_0*x_2_1*x_3_0*x_3_1 - 16*x_2_0*x_2_1*x_3_0 + 16*x_2_0*x_3_1**2 + 16*x_2_0*x_3_1 + 4*x_2_0 + 16*x_2_1**2*x_3_0**2 - 16*x_2_1*x_3_0*x_3_1 - 8*x_2_1*x_3_0 + 4*x_3_1**2 + 4*x_3_1 + 2, 8*x_2_0**2*x_3_1 + 4*x_2_0**2 - 8*x_2_0*x_2_1*x_3_0 - 8*x_2_0*x_3_0*x_3_1 - 4*x_2_0*x_3_0 + 8*x_2_0*x_3_1 + 4*x_2_0 + 8*x_2_1*x_3_0**2 - 4*x_2_1*x_3_0 - 4*x_3_0*x_3_1 - 2*x_3_0 + 2*x_3_1 + 2, -8*x_1_0*x_1_1*x_2_1 + 8*x_1_0*x_2_1*x_3_1 + 4*x_1_0*x_2_1 + 8*x_1_1**2*x_2_0 + 4*x_1_1**2 - 16*x_1_1*x_2_0*x_3_1 - 8*x_1_1*x_2_0 + 8*x_1_1*x_2_1*x_3_0 - 8*x_1_1*x_3_1 - 4*x_1_1 + 8*x_2_0*x_3_1**2 + 8*x_2_0*x_3_1 + 2*x_2_0 - 8*x_2_1*x_3_0*x_3_1 - 4*x_2_1*x_3_0 + 4*x_3_1**2 + 4*x_3_1 + 2, -4*x_0_1*x_1_1 + 4*x_0_1*x_3_1 + 2*x_0_1 - 4*x_1_1*x_2_1 + 4*x_1_1*x_3_1 + 2*x_1_1 + 4*x_2_1*x_3_1 + 2*x_2_1 - 4*x_3_1**2 - 4*x_3_1, 4*x_0_0*x_0_1 + 4*x_0_0*x_2_1 - 4*x_0_0*x_3_1 - 2*x_0_0 + 4*x_0_1*x_2_0 - 4*x_0_1*x_3_0 + 2*x_0_1 + 4*x_2_0*x_2_1 - 4*x_2_0*x_3_1 - 2*x_2_0 - 4*x_2_1*x_3_0 + 2*x_2_1 + 4*x_3_0*x_3_1 + 2*x_3_0 - 2*x_3_1, 4*x_0_0*x_2_0 - 4*x_0_0*x_3_0 + 2*x_0_0 + 4*x_2_0**2 - 8*x_2_0*x_3_0 + 4*x_2_0 + 4*x_3_0**2 - 4*x_3_0 + 2]\n"
     ]
    },
    {
     "ename": "KeyboardInterrupt",
     "evalue": "",
     "output_type": "error",
     "traceback": [
      "\u001b[0;31m---------------------------------------------------------------------------\u001b[0m",
      "\u001b[0;31mKeyboardInterrupt\u001b[0m                         Traceback (most recent call last)",
      "Cell \u001b[0;32mIn[101], line 5\u001b[0m\n\u001b[1;32m      3\u001b[0m \u001b[38;5;28;01mfor\u001b[39;00m mod_2_char_map_bin \u001b[38;5;129;01min\u001b[39;00m sc\u001b[38;5;241m.\u001b[39mIDCM_Garrison_Scott(K):\n\u001b[1;32m      4\u001b[0m     mod_2_char_map \u001b[38;5;241m=\u001b[39m sc\u001b[38;5;241m.\u001b[39mchar_funct_bin_to_numpy(mod_2_char_map_bin,K\u001b[38;5;241m.\u001b[39mm\u001b[38;5;241m-\u001b[39mK\u001b[38;5;241m.\u001b[39mn)\n\u001b[0;32m----> 5\u001b[0m     \u001b[43mis_positive\u001b[49m\u001b[43m(\u001b[49m\u001b[43mK\u001b[49m\u001b[43m,\u001b[49m\u001b[43mmod_2_char_map\u001b[49m\u001b[43m)\u001b[49m\n",
      "Cell \u001b[0;32mIn[100], line 32\u001b[0m, in \u001b[0;36mis_positive\u001b[0;34m(K, mod_2_IDCM)\u001b[0m\n\u001b[1;32m     30\u001b[0m             system\u001b[38;5;241m.\u001b[39mappend((poly_char_map[:,intersection1]\u001b[38;5;241m.\u001b[39mdet()\u001b[38;5;241m*\u001b[39mpoly_char_map[:,intersection2]\u001b[38;5;241m.\u001b[39mdet())\u001b[38;5;241m.\u001b[39mexpand()\u001b[38;5;241m+\u001b[39m\u001b[38;5;241m1\u001b[39m)\n\u001b[1;32m     31\u001b[0m \u001b[38;5;28mprint\u001b[39m(system)\n\u001b[0;32m---> 32\u001b[0m \u001b[38;5;28mprint\u001b[39m(\u001b[43msp\u001b[49m\u001b[38;5;241;43m.\u001b[39;49m\u001b[43msolve\u001b[49m\u001b[43m(\u001b[49m\u001b[43msystem\u001b[49m\u001b[43m)\u001b[49m)\n",
      "File \u001b[0;32m~/mambaforge/envs/sage/lib/python3.10/site-packages/sympy/solvers/solvers.py:1172\u001b[0m, in \u001b[0;36msolve\u001b[0;34m(f, *symbols, **flags)\u001b[0m\n\u001b[1;32m   1170\u001b[0m         solution \u001b[38;5;241m=\u001b[39m _solve(f[\u001b[38;5;241m0\u001b[39m], \u001b[38;5;241m*\u001b[39msymbols, \u001b[38;5;241m*\u001b[39m\u001b[38;5;241m*\u001b[39mflags)\n\u001b[1;32m   1171\u001b[0m \u001b[38;5;28;01melse\u001b[39;00m:\n\u001b[0;32m-> 1172\u001b[0m     linear, solution \u001b[38;5;241m=\u001b[39m \u001b[43m_solve_system\u001b[49m\u001b[43m(\u001b[49m\u001b[43mf\u001b[49m\u001b[43m,\u001b[49m\u001b[43m \u001b[49m\u001b[43msymbols\u001b[49m\u001b[43m,\u001b[49m\u001b[43m \u001b[49m\u001b[38;5;241;43m*\u001b[39;49m\u001b[38;5;241;43m*\u001b[39;49m\u001b[43mflags\u001b[49m\u001b[43m)\u001b[49m\n\u001b[1;32m   1173\u001b[0m \u001b[38;5;28;01massert\u001b[39;00m \u001b[38;5;28mtype\u001b[39m(solution) \u001b[38;5;129;01mis\u001b[39;00m \u001b[38;5;28mlist\u001b[39m\n\u001b[1;32m   1174\u001b[0m \u001b[38;5;28;01massert\u001b[39;00m \u001b[38;5;129;01mnot\u001b[39;00m solution \u001b[38;5;129;01mor\u001b[39;00m \u001b[38;5;28mtype\u001b[39m(solution[\u001b[38;5;241m0\u001b[39m]) \u001b[38;5;129;01mis\u001b[39;00m \u001b[38;5;28mdict\u001b[39m, solution\n",
      "File \u001b[0;32m~/mambaforge/envs/sage/lib/python3.10/site-packages/sympy/solvers/solvers.py:1878\u001b[0m, in \u001b[0;36m_solve_system\u001b[0;34m(exprs, symbols, **flags)\u001b[0m\n\u001b[1;32m   1875\u001b[0m \u001b[38;5;28;01mfor\u001b[39;00m syms \u001b[38;5;129;01min\u001b[39;00m subsets(free, \u001b[38;5;28mlen\u001b[39m(polys)):\n\u001b[1;32m   1876\u001b[0m     \u001b[38;5;28;01mtry\u001b[39;00m:\n\u001b[1;32m   1877\u001b[0m         \u001b[38;5;66;03m# returns [], None or list of tuples\u001b[39;00m\n\u001b[0;32m-> 1878\u001b[0m         res \u001b[38;5;241m=\u001b[39m \u001b[43msolve_poly_system\u001b[49m\u001b[43m(\u001b[49m\u001b[43mpolys\u001b[49m\u001b[43m,\u001b[49m\u001b[43m \u001b[49m\u001b[38;5;241;43m*\u001b[39;49m\u001b[43msyms\u001b[49m\u001b[43m)\u001b[49m\n\u001b[1;32m   1879\u001b[0m         \u001b[38;5;28;01mif\u001b[39;00m res:\n\u001b[1;32m   1880\u001b[0m             \u001b[38;5;28;01mfor\u001b[39;00m r \u001b[38;5;129;01min\u001b[39;00m \u001b[38;5;28mset\u001b[39m(res):\n",
      "File \u001b[0;32m~/mambaforge/envs/sage/lib/python3.10/site-packages/sympy/solvers/polysys.py:78\u001b[0m, in \u001b[0;36msolve_poly_system\u001b[0;34m(seq, strict, *gens, **args)\u001b[0m\n\u001b[1;32m     75\u001b[0m         \u001b[38;5;28;01mexcept\u001b[39;00m SolveFailed:\n\u001b[1;32m     76\u001b[0m             \u001b[38;5;28;01mpass\u001b[39;00m\n\u001b[0;32m---> 78\u001b[0m \u001b[38;5;28;01mreturn\u001b[39;00m \u001b[43msolve_generic\u001b[49m\u001b[43m(\u001b[49m\u001b[43mpolys\u001b[49m\u001b[43m,\u001b[49m\u001b[43m \u001b[49m\u001b[43mopt\u001b[49m\u001b[43m,\u001b[49m\u001b[43m \u001b[49m\u001b[43mstrict\u001b[49m\u001b[38;5;241;43m=\u001b[39;49m\u001b[43mstrict\u001b[49m\u001b[43m)\u001b[49m\n",
      "File \u001b[0;32m~/mambaforge/envs/sage/lib/python3.10/site-packages/sympy/solvers/polysys.py:333\u001b[0m, in \u001b[0;36msolve_generic\u001b[0;34m(polys, opt, strict)\u001b[0m\n\u001b[1;32m    330\u001b[0m     \u001b[38;5;28;01mreturn\u001b[39;00m solutions\n\u001b[1;32m    332\u001b[0m \u001b[38;5;28;01mtry\u001b[39;00m:\n\u001b[0;32m--> 333\u001b[0m     result \u001b[38;5;241m=\u001b[39m \u001b[43m_solve_reduced_system\u001b[49m\u001b[43m(\u001b[49m\u001b[43mpolys\u001b[49m\u001b[43m,\u001b[49m\u001b[43m \u001b[49m\u001b[43mopt\u001b[49m\u001b[38;5;241;43m.\u001b[39;49m\u001b[43mgens\u001b[49m\u001b[43m,\u001b[49m\u001b[43m \u001b[49m\u001b[43mentry\u001b[49m\u001b[38;5;241;43m=\u001b[39;49m\u001b[38;5;28;43;01mTrue\u001b[39;49;00m\u001b[43m)\u001b[49m\n\u001b[1;32m    334\u001b[0m \u001b[38;5;28;01mexcept\u001b[39;00m CoercionFailed:\n\u001b[1;32m    335\u001b[0m     \u001b[38;5;28;01mraise\u001b[39;00m \u001b[38;5;167;01mNotImplementedError\u001b[39;00m\n",
      "File \u001b[0;32m~/mambaforge/envs/sage/lib/python3.10/site-packages/sympy/solvers/polysys.py:273\u001b[0m, in \u001b[0;36msolve_generic.<locals>._solve_reduced_system\u001b[0;34m(system, gens, entry)\u001b[0m\n\u001b[1;32m    270\u001b[0m     zeros \u001b[38;5;241m=\u001b[39m \u001b[38;5;28mlist\u001b[39m(roots(system[\u001b[38;5;241m0\u001b[39m], gens[\u001b[38;5;241m-\u001b[39m\u001b[38;5;241m1\u001b[39m], strict\u001b[38;5;241m=\u001b[39mstrict)\u001b[38;5;241m.\u001b[39mkeys())\n\u001b[1;32m    271\u001b[0m     \u001b[38;5;28;01mreturn\u001b[39;00m [(zero,) \u001b[38;5;28;01mfor\u001b[39;00m zero \u001b[38;5;129;01min\u001b[39;00m zeros]\n\u001b[0;32m--> 273\u001b[0m basis \u001b[38;5;241m=\u001b[39m \u001b[43mgroebner\u001b[49m\u001b[43m(\u001b[49m\u001b[43msystem\u001b[49m\u001b[43m,\u001b[49m\u001b[43m \u001b[49m\u001b[43mgens\u001b[49m\u001b[43m,\u001b[49m\u001b[43m \u001b[49m\u001b[43mpolys\u001b[49m\u001b[38;5;241;43m=\u001b[39;49m\u001b[38;5;28;43;01mTrue\u001b[39;49;00m\u001b[43m)\u001b[49m\n\u001b[1;32m    275\u001b[0m \u001b[38;5;28;01mif\u001b[39;00m \u001b[38;5;28mlen\u001b[39m(basis) \u001b[38;5;241m==\u001b[39m \u001b[38;5;241m1\u001b[39m \u001b[38;5;129;01mand\u001b[39;00m basis[\u001b[38;5;241m0\u001b[39m]\u001b[38;5;241m.\u001b[39mis_ground:\n\u001b[1;32m    276\u001b[0m     \u001b[38;5;28;01mif\u001b[39;00m \u001b[38;5;129;01mnot\u001b[39;00m entry:\n",
      "File \u001b[0;32m~/mambaforge/envs/sage/lib/python3.10/site-packages/sympy/polys/polytools.py:7338\u001b[0m, in \u001b[0;36mgroebner\u001b[0;34m(F, *gens, **args)\u001b[0m\n\u001b[1;32m   7287\u001b[0m \u001b[38;5;129m@public\u001b[39m\n\u001b[1;32m   7288\u001b[0m \u001b[38;5;28;01mdef\u001b[39;00m \u001b[38;5;21mgroebner\u001b[39m(F, \u001b[38;5;241m*\u001b[39mgens, \u001b[38;5;241m*\u001b[39m\u001b[38;5;241m*\u001b[39margs):\n\u001b[1;32m   7289\u001b[0m \u001b[38;5;250m    \u001b[39m\u001b[38;5;124;03m\"\"\"\u001b[39;00m\n\u001b[1;32m   7290\u001b[0m \u001b[38;5;124;03m    Computes the reduced Groebner basis for a set of polynomials.\u001b[39;00m\n\u001b[1;32m   7291\u001b[0m \n\u001b[0;32m   (...)\u001b[0m\n\u001b[1;32m   7336\u001b[0m \n\u001b[1;32m   7337\u001b[0m \u001b[38;5;124;03m    \"\"\"\u001b[39;00m\n\u001b[0;32m-> 7338\u001b[0m     \u001b[38;5;28;01mreturn\u001b[39;00m \u001b[43mGroebnerBasis\u001b[49m\u001b[43m(\u001b[49m\u001b[43mF\u001b[49m\u001b[43m,\u001b[49m\u001b[43m \u001b[49m\u001b[38;5;241;43m*\u001b[39;49m\u001b[43mgens\u001b[49m\u001b[43m,\u001b[49m\u001b[43m \u001b[49m\u001b[38;5;241;43m*\u001b[39;49m\u001b[38;5;241;43m*\u001b[39;49m\u001b[43margs\u001b[49m\u001b[43m)\u001b[49m\n",
      "File \u001b[0;32m~/mambaforge/envs/sage/lib/python3.10/site-packages/sympy/polys/polytools.py:7377\u001b[0m, in \u001b[0;36mGroebnerBasis.__new__\u001b[0;34m(cls, F, *gens, **args)\u001b[0m\n\u001b[1;32m   7373\u001b[0m ring \u001b[38;5;241m=\u001b[39m PolyRing(opt\u001b[38;5;241m.\u001b[39mgens, opt\u001b[38;5;241m.\u001b[39mdomain, opt\u001b[38;5;241m.\u001b[39morder)\n\u001b[1;32m   7375\u001b[0m polys \u001b[38;5;241m=\u001b[39m [ring\u001b[38;5;241m.\u001b[39mfrom_dict(poly\u001b[38;5;241m.\u001b[39mrep\u001b[38;5;241m.\u001b[39mto_dict()) \u001b[38;5;28;01mfor\u001b[39;00m poly \u001b[38;5;129;01min\u001b[39;00m polys \u001b[38;5;28;01mif\u001b[39;00m poly]\n\u001b[0;32m-> 7377\u001b[0m G \u001b[38;5;241m=\u001b[39m \u001b[43m_groebner\u001b[49m\u001b[43m(\u001b[49m\u001b[43mpolys\u001b[49m\u001b[43m,\u001b[49m\u001b[43m \u001b[49m\u001b[43mring\u001b[49m\u001b[43m,\u001b[49m\u001b[43m \u001b[49m\u001b[43mmethod\u001b[49m\u001b[38;5;241;43m=\u001b[39;49m\u001b[43mopt\u001b[49m\u001b[38;5;241;43m.\u001b[39;49m\u001b[43mmethod\u001b[49m\u001b[43m)\u001b[49m\n\u001b[1;32m   7378\u001b[0m G \u001b[38;5;241m=\u001b[39m [Poly\u001b[38;5;241m.\u001b[39m_from_dict(g, opt) \u001b[38;5;28;01mfor\u001b[39;00m g \u001b[38;5;129;01min\u001b[39;00m G]\n\u001b[1;32m   7380\u001b[0m \u001b[38;5;28;01mreturn\u001b[39;00m \u001b[38;5;28mcls\u001b[39m\u001b[38;5;241m.\u001b[39m_new(G, opt)\n",
      "File \u001b[0;32m~/mambaforge/envs/sage/lib/python3.10/site-packages/sympy/polys/groebnertools.py:43\u001b[0m, in \u001b[0;36mgroebner\u001b[0;34m(seq, ring, method)\u001b[0m\n\u001b[1;32m     40\u001b[0m     \u001b[38;5;28;01melse\u001b[39;00m:\n\u001b[1;32m     41\u001b[0m         seq \u001b[38;5;241m=\u001b[39m [ s\u001b[38;5;241m.\u001b[39mset_ring(ring) \u001b[38;5;28;01mfor\u001b[39;00m s \u001b[38;5;129;01min\u001b[39;00m seq ]\n\u001b[0;32m---> 43\u001b[0m G \u001b[38;5;241m=\u001b[39m \u001b[43m_groebner\u001b[49m\u001b[43m(\u001b[49m\u001b[43mseq\u001b[49m\u001b[43m,\u001b[49m\u001b[43m \u001b[49m\u001b[43mring\u001b[49m\u001b[43m)\u001b[49m\n\u001b[1;32m     45\u001b[0m \u001b[38;5;28;01mif\u001b[39;00m orig \u001b[38;5;129;01mis\u001b[39;00m \u001b[38;5;129;01mnot\u001b[39;00m \u001b[38;5;28;01mNone\u001b[39;00m:\n\u001b[1;32m     46\u001b[0m     G \u001b[38;5;241m=\u001b[39m [ g\u001b[38;5;241m.\u001b[39mclear_denoms()[\u001b[38;5;241m1\u001b[39m]\u001b[38;5;241m.\u001b[39mset_ring(orig) \u001b[38;5;28;01mfor\u001b[39;00m g \u001b[38;5;129;01min\u001b[39;00m G ]\n",
      "File \u001b[0;32m~/mambaforge/envs/sage/lib/python3.10/site-packages/sympy/polys/groebnertools.py:238\u001b[0m, in \u001b[0;36m_buchberger\u001b[0;34m(f, ring)\u001b[0m\n\u001b[1;32m    236\u001b[0m \u001b[38;5;66;03m# ordering divisors is on average more efficient [Cox] page 111\u001b[39;00m\n\u001b[1;32m    237\u001b[0m G1 \u001b[38;5;241m=\u001b[39m \u001b[38;5;28msorted\u001b[39m(G, key\u001b[38;5;241m=\u001b[39m\u001b[38;5;28;01mlambda\u001b[39;00m g: order(f[g]\u001b[38;5;241m.\u001b[39mLM))\n\u001b[0;32m--> 238\u001b[0m ht \u001b[38;5;241m=\u001b[39m \u001b[43mnormal\u001b[49m\u001b[43m(\u001b[49m\u001b[43mh\u001b[49m\u001b[43m,\u001b[49m\u001b[43m \u001b[49m\u001b[43mG1\u001b[49m\u001b[43m)\u001b[49m\n\u001b[1;32m    240\u001b[0m \u001b[38;5;28;01mif\u001b[39;00m ht:\n\u001b[1;32m    241\u001b[0m     G, CP \u001b[38;5;241m=\u001b[39m update(G, CP, ht[\u001b[38;5;241m1\u001b[39m])\n",
      "File \u001b[0;32m~/mambaforge/envs/sage/lib/python3.10/site-packages/sympy/polys/groebnertools.py:104\u001b[0m, in \u001b[0;36m_buchberger.<locals>.normal\u001b[0;34m(g, J)\u001b[0m\n\u001b[1;32m    103\u001b[0m \u001b[38;5;28;01mdef\u001b[39;00m \u001b[38;5;21mnormal\u001b[39m(g, J):\n\u001b[0;32m--> 104\u001b[0m     h \u001b[38;5;241m=\u001b[39m \u001b[43mg\u001b[49m\u001b[38;5;241;43m.\u001b[39;49m\u001b[43mrem\u001b[49m\u001b[43m(\u001b[49m\u001b[43m[\u001b[49m\u001b[43m \u001b[49m\u001b[43mf\u001b[49m\u001b[43m[\u001b[49m\u001b[43mj\u001b[49m\u001b[43m]\u001b[49m\u001b[43m \u001b[49m\u001b[38;5;28;43;01mfor\u001b[39;49;00m\u001b[43m \u001b[49m\u001b[43mj\u001b[49m\u001b[43m \u001b[49m\u001b[38;5;129;43;01min\u001b[39;49;00m\u001b[43m \u001b[49m\u001b[43mJ\u001b[49m\u001b[43m \u001b[49m\u001b[43m]\u001b[49m\u001b[43m)\u001b[49m\n\u001b[1;32m    106\u001b[0m     \u001b[38;5;28;01mif\u001b[39;00m \u001b[38;5;129;01mnot\u001b[39;00m h:\n\u001b[1;32m    107\u001b[0m         \u001b[38;5;28;01mreturn\u001b[39;00m \u001b[38;5;28;01mNone\u001b[39;00m\n",
      "File \u001b[0;32m~/mambaforge/envs/sage/lib/python3.10/site-packages/sympy/polys/rings.py:1512\u001b[0m, in \u001b[0;36mPolyElement.rem\u001b[0;34m(self, G)\u001b[0m\n\u001b[1;32m   1510\u001b[0m \u001b[38;5;28;01mfor\u001b[39;00m mg, cg \u001b[38;5;129;01min\u001b[39;00m g\u001b[38;5;241m.\u001b[39miterterms():\n\u001b[1;32m   1511\u001b[0m     m1 \u001b[38;5;241m=\u001b[39m monomial_mul(mg, m)\n\u001b[0;32m-> 1512\u001b[0m     c1 \u001b[38;5;241m=\u001b[39m \u001b[43mget\u001b[49m\u001b[43m(\u001b[49m\u001b[43mm1\u001b[49m\u001b[43m,\u001b[49m\u001b[43m \u001b[49m\u001b[43mzero\u001b[49m\u001b[43m)\u001b[49m\u001b[43m \u001b[49m\u001b[38;5;241;43m-\u001b[39;49m\u001b[43m \u001b[49m\u001b[43mc\u001b[49m\u001b[38;5;241;43m*\u001b[39;49m\u001b[43mcg\u001b[49m\n\u001b[1;32m   1513\u001b[0m     \u001b[38;5;28;01mif\u001b[39;00m \u001b[38;5;129;01mnot\u001b[39;00m c1:\n\u001b[1;32m   1514\u001b[0m         \u001b[38;5;28;01mdel\u001b[39;00m f[m1]\n",
      "File \u001b[0;32m~/mambaforge/envs/sage/lib/python3.10/site-packages/sympy/polys/fields.py:451\u001b[0m, in \u001b[0;36mFracElement.__sub__\u001b[0;34m(f, g)\u001b[0m\n\u001b[1;32m    449\u001b[0m         \u001b[38;5;28;01mreturn\u001b[39;00m f\u001b[38;5;241m.\u001b[39mnew(f\u001b[38;5;241m.\u001b[39mnumer \u001b[38;5;241m-\u001b[39m g\u001b[38;5;241m.\u001b[39mnumer, f\u001b[38;5;241m.\u001b[39mdenom)\n\u001b[1;32m    450\u001b[0m     \u001b[38;5;28;01melse\u001b[39;00m:\n\u001b[0;32m--> 451\u001b[0m         \u001b[38;5;28;01mreturn\u001b[39;00m \u001b[43mf\u001b[49m\u001b[38;5;241;43m.\u001b[39;49m\u001b[43mnew\u001b[49m\u001b[43m(\u001b[49m\u001b[43mf\u001b[49m\u001b[38;5;241;43m.\u001b[39;49m\u001b[43mnumer\u001b[49m\u001b[38;5;241;43m*\u001b[39;49m\u001b[43mg\u001b[49m\u001b[38;5;241;43m.\u001b[39;49m\u001b[43mdenom\u001b[49m\u001b[43m \u001b[49m\u001b[38;5;241;43m-\u001b[39;49m\u001b[43m \u001b[49m\u001b[43mf\u001b[49m\u001b[38;5;241;43m.\u001b[39;49m\u001b[43mdenom\u001b[49m\u001b[38;5;241;43m*\u001b[39;49m\u001b[43mg\u001b[49m\u001b[38;5;241;43m.\u001b[39;49m\u001b[43mnumer\u001b[49m\u001b[43m,\u001b[49m\u001b[43m \u001b[49m\u001b[43mf\u001b[49m\u001b[38;5;241;43m.\u001b[39;49m\u001b[43mdenom\u001b[49m\u001b[38;5;241;43m*\u001b[39;49m\u001b[43mg\u001b[49m\u001b[38;5;241;43m.\u001b[39;49m\u001b[43mdenom\u001b[49m\u001b[43m)\u001b[49m\n\u001b[1;32m    452\u001b[0m \u001b[38;5;28;01melif\u001b[39;00m \u001b[38;5;28misinstance\u001b[39m(g, field\u001b[38;5;241m.\u001b[39mring\u001b[38;5;241m.\u001b[39mdtype):\n\u001b[1;32m    453\u001b[0m     \u001b[38;5;28;01mreturn\u001b[39;00m f\u001b[38;5;241m.\u001b[39mnew(f\u001b[38;5;241m.\u001b[39mnumer \u001b[38;5;241m-\u001b[39m f\u001b[38;5;241m.\u001b[39mdenom\u001b[38;5;241m*\u001b[39mg, f\u001b[38;5;241m.\u001b[39mdenom)\n",
      "File \u001b[0;32m~/mambaforge/envs/sage/lib/python3.10/site-packages/sympy/polys/fields.py:301\u001b[0m, in \u001b[0;36mFracElement.new\u001b[0;34m(f, numer, denom)\u001b[0m\n\u001b[1;32m    300\u001b[0m \u001b[38;5;28;01mdef\u001b[39;00m \u001b[38;5;21mnew\u001b[39m(f, numer, denom):\n\u001b[0;32m--> 301\u001b[0m     \u001b[38;5;28;01mreturn\u001b[39;00m f\u001b[38;5;241m.\u001b[39mraw_new(\u001b[38;5;241m*\u001b[39m\u001b[43mnumer\u001b[49m\u001b[38;5;241;43m.\u001b[39;49m\u001b[43mcancel\u001b[49m\u001b[43m(\u001b[49m\u001b[43mdenom\u001b[49m\u001b[43m)\u001b[49m)\n",
      "File \u001b[0;32m~/mambaforge/envs/sage/lib/python3.10/site-packages/sympy/polys/rings.py:2242\u001b[0m, in \u001b[0;36mPolyElement.cancel\u001b[0;34m(self, g)\u001b[0m\n\u001b[1;32m   2239\u001b[0m domain \u001b[38;5;241m=\u001b[39m ring\u001b[38;5;241m.\u001b[39mdomain\n\u001b[1;32m   2241\u001b[0m \u001b[38;5;28;01mif\u001b[39;00m \u001b[38;5;129;01mnot\u001b[39;00m (domain\u001b[38;5;241m.\u001b[39mis_Field \u001b[38;5;129;01mand\u001b[39;00m domain\u001b[38;5;241m.\u001b[39mhas_assoc_Ring):\n\u001b[0;32m-> 2242\u001b[0m     _, p, q \u001b[38;5;241m=\u001b[39m \u001b[43mf\u001b[49m\u001b[38;5;241;43m.\u001b[39;49m\u001b[43mcofactors\u001b[49m\u001b[43m(\u001b[49m\u001b[43mg\u001b[49m\u001b[43m)\u001b[49m\n\u001b[1;32m   2243\u001b[0m \u001b[38;5;28;01melse\u001b[39;00m:\n\u001b[1;32m   2244\u001b[0m     new_ring \u001b[38;5;241m=\u001b[39m ring\u001b[38;5;241m.\u001b[39mclone(domain\u001b[38;5;241m=\u001b[39mdomain\u001b[38;5;241m.\u001b[39mget_ring())\n",
      "File \u001b[0;32m~/mambaforge/envs/sage/lib/python3.10/site-packages/sympy/polys/rings.py:2158\u001b[0m, in \u001b[0;36mPolyElement.cofactors\u001b[0;34m(f, g)\u001b[0m\n\u001b[1;32m   2155\u001b[0m     \u001b[38;5;28;01mreturn\u001b[39;00m h, cff, cfg\n\u001b[1;32m   2157\u001b[0m J, (f, g) \u001b[38;5;241m=\u001b[39m f\u001b[38;5;241m.\u001b[39mdeflate(g)\n\u001b[0;32m-> 2158\u001b[0m h, cff, cfg \u001b[38;5;241m=\u001b[39m \u001b[43mf\u001b[49m\u001b[38;5;241;43m.\u001b[39;49m\u001b[43m_gcd\u001b[49m\u001b[43m(\u001b[49m\u001b[43mg\u001b[49m\u001b[43m)\u001b[49m\n\u001b[1;32m   2160\u001b[0m \u001b[38;5;28;01mreturn\u001b[39;00m (h\u001b[38;5;241m.\u001b[39minflate(J), cff\u001b[38;5;241m.\u001b[39minflate(J), cfg\u001b[38;5;241m.\u001b[39minflate(J))\n",
      "File \u001b[0;32m~/mambaforge/envs/sage/lib/python3.10/site-packages/sympy/polys/rings.py:2191\u001b[0m, in \u001b[0;36mPolyElement._gcd\u001b[0;34m(f, g)\u001b[0m\n\u001b[1;32m   2189\u001b[0m     \u001b[38;5;28;01mreturn\u001b[39;00m f\u001b[38;5;241m.\u001b[39m_gcd_QQ(g)\n\u001b[1;32m   2190\u001b[0m \u001b[38;5;28;01melif\u001b[39;00m ring\u001b[38;5;241m.\u001b[39mdomain\u001b[38;5;241m.\u001b[39mis_ZZ:\n\u001b[0;32m-> 2191\u001b[0m     \u001b[38;5;28;01mreturn\u001b[39;00m \u001b[43mf\u001b[49m\u001b[38;5;241;43m.\u001b[39;49m\u001b[43m_gcd_ZZ\u001b[49m\u001b[43m(\u001b[49m\u001b[43mg\u001b[49m\u001b[43m)\u001b[49m\n\u001b[1;32m   2192\u001b[0m \u001b[38;5;28;01melse\u001b[39;00m: \u001b[38;5;66;03m# TODO: don't use dense representation (port PRS algorithms)\u001b[39;00m\n\u001b[1;32m   2193\u001b[0m     \u001b[38;5;28;01mreturn\u001b[39;00m ring\u001b[38;5;241m.\u001b[39mdmp_inner_gcd(f, g)\n",
      "File \u001b[0;32m~/mambaforge/envs/sage/lib/python3.10/site-packages/sympy/polys/rings.py:2196\u001b[0m, in \u001b[0;36mPolyElement._gcd_ZZ\u001b[0;34m(f, g)\u001b[0m\n\u001b[1;32m   2195\u001b[0m \u001b[38;5;28;01mdef\u001b[39;00m \u001b[38;5;21m_gcd_ZZ\u001b[39m(f, g):\n\u001b[0;32m-> 2196\u001b[0m     \u001b[38;5;28;01mreturn\u001b[39;00m \u001b[43mheugcd\u001b[49m\u001b[43m(\u001b[49m\u001b[43mf\u001b[49m\u001b[43m,\u001b[49m\u001b[43m \u001b[49m\u001b[43mg\u001b[49m\u001b[43m)\u001b[49m\n",
      "File \u001b[0;32m~/mambaforge/envs/sage/lib/python3.10/site-packages/sympy/polys/heuristicgcd.py:88\u001b[0m, in \u001b[0;36mheugcd\u001b[0;34m(f, g)\u001b[0m\n\u001b[1;32m     85\u001b[0m cff_, r \u001b[38;5;241m=\u001b[39m f\u001b[38;5;241m.\u001b[39mdiv(h)\n\u001b[1;32m     87\u001b[0m \u001b[38;5;28;01mif\u001b[39;00m \u001b[38;5;129;01mnot\u001b[39;00m r:\n\u001b[0;32m---> 88\u001b[0m     cfg_, r \u001b[38;5;241m=\u001b[39m \u001b[43mg\u001b[49m\u001b[38;5;241;43m.\u001b[39;49m\u001b[43mdiv\u001b[49m\u001b[43m(\u001b[49m\u001b[43mh\u001b[49m\u001b[43m)\u001b[49m\n\u001b[1;32m     90\u001b[0m     \u001b[38;5;28;01mif\u001b[39;00m \u001b[38;5;129;01mnot\u001b[39;00m r:\n\u001b[1;32m     91\u001b[0m         h \u001b[38;5;241m=\u001b[39m h\u001b[38;5;241m.\u001b[39mmul_ground(gcd)\n",
      "\u001b[0;31mKeyboardInterrupt\u001b[0m: "
     ]
    }
   ],
   "source": [
    "Data = load_seeds(3,7)\n",
    "for K in Data:\n",
    "    for mod_2_char_map_bin in sc.IDCM_Garrison_Scott(K):\n",
    "        mod_2_char_map = sc.char_funct_bin_to_numpy(mod_2_char_map_bin,K.m-K.n)\n",
    "        is_positive(K,mod_2_char_map)"
   ]
  },
  {
   "cell_type": "code",
   "execution_count": null,
   "metadata": {},
   "outputs": [],
   "source": []
  },
  {
   "cell_type": "code",
   "execution_count": null,
   "metadata": {},
   "outputs": [],
   "source": []
  }
 ],
 "metadata": {
  "kernelspec": {
   "display_name": "py311",
   "language": "python",
   "name": "python3"
  },
  "language_info": {
   "codemirror_mode": {
    "name": "ipython",
    "version": 3
   },
   "file_extension": ".py",
   "mimetype": "text/x-python",
   "name": "python",
   "nbconvert_exporter": "python",
   "pygments_lexer": "ipython3",
   "version": "3.10.14"
  }
 },
 "nbformat": 4,
 "nbformat_minor": 2
}
