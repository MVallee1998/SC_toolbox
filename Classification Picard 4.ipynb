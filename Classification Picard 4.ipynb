{
 "cells": [
  {
   "cell_type": "markdown",
   "metadata": {},
   "source": [
    "# Code for CLa&ssification of toric colorable seeds of Picard number $4$\n",
    "In terms of:\n",
    "    - Positivity\n",
    "    - Fan-givingness\n",
    "    - Projectivity"
   ]
  },
  {
   "cell_type": "code",
   "execution_count": 2,
   "metadata": {},
   "outputs": [],
   "source": [
    "import SimplicialComplex as sc\n",
    "import json\n",
    "import sympy as sp\n",
    "\n",
    "def read_file(filename):\n",
    "    with open(filename, 'rb') as f:\n",
    "        data = f.readlines()\n",
    "        data = [x.strip() for x in data]\n",
    "    return data"
   ]
  },
  {
   "cell_type": "markdown",
   "metadata": {},
   "source": [
    "### Function for loading all the seeds of a given pair $(m,n)$"
   ]
  },
  {
   "cell_type": "code",
   "execution_count": 3,
   "metadata": {},
   "outputs": [],
   "source": [
    "def load_seeds(n,m):\n",
    "    db_path = 'final_results/CSPLS_%d_%d' % (n, m)\n",
    "    list_facets = [json.loads(facets_bytes) for facets_bytes in read_file(db_path)]\n",
    "    return [sc.PureSimplicialComplex(facets_set for facets_set in list_facets)]\n",
    "\n",
    "    \n",
    "    "
   ]
  },
  {
   "cell_type": "markdown",
   "metadata": {},
   "source": [
    "### Function for testing positivity of a pair $(K,\\lambda^{\\mathbb{R}})$"
   ]
  },
  {
   "cell_type": "code",
   "execution_count": 9,
   "metadata": {},
   "outputs": [],
   "source": [
    "def is_positive(K:sc.PureSimplicialComplex,mod_2_IDCM):\n",
    "    (m,n) = (K.m,K.n)\n",
    "    poly_char_map = sp.Matrix((m-n,m),dtype=object)\n",
    "    x_vars = sp.symarray('x',(m-n,n))\n",
    "    for i in range(m-n):\n",
    "        for j in range(m):\n",
    "            poly_char_map[i,j] = mod_2_IDCM[i,j]\n",
    "    poly_char_map[:,n:] += 2*x_vars\n",
    "    list_cofacets = []\n",
    "    for facet_bin in K.facets_bin:\n",
    "        cofacet_bin = facet_bin ^ (sc.list_2_pow[m]-1)\n",
    "        list_cofacets.append(sc.binary_to_face(cofacet_bin,m))\n",
    "    N = len(list_cofacets)\n",
    "\n",
    "    system = []\n",
    "    for i in range(N):\n",
    "        for j in range(i+1,N):\n",
    "            intersection = sc.binary_to_face(K.facets_bin[i]&K.facets_bin[j])\n",
    "            if len(intersection)==n-1:\n",
    "                vertcices = sc.binary_to_face(K.facets_bin[i]^K.facets_bin[j])\n",
    "                intersection1 = intersection.copy()\n",
    "                intersection1.append(vertcices[0])\n",
    "                intersection2 = intersection.copy()\n",
    "                intersection2.append(vertcices[1])\n",
    "                system.append(poly_char_map[:,intersection1]*poly_char_map[:,intersection2])\n",
    "    min_ones = -sp.ones(len(system))\n",
    "    sp.solve(system,min_ones)\n",
    "    \n",
    "\n",
    "    \n"
   ]
  },
  {
   "cell_type": "code",
   "execution_count": null,
   "metadata": {},
   "outputs": [],
   "source": []
  }
 ],
 "metadata": {
  "kernelspec": {
   "display_name": "py311",
   "language": "python",
   "name": "python3"
  },
  "language_info": {
   "codemirror_mode": {
    "name": "ipython",
    "version": 3
   },
   "file_extension": ".py",
   "mimetype": "text/x-python",
   "name": "python",
   "nbconvert_exporter": "python",
   "pygments_lexer": "ipython3",
   "version": "3.10.14"
  }
 },
 "nbformat": 4,
 "nbformat_minor": 2
}
